{
 "cells": [
  {
   "cell_type": "code",
   "execution_count": null,
   "metadata": {},
   "outputs": [],
   "source": [
    "# Download data from GDRIVE\n",
    "\n",
    "import gdown\n",
    "\n",
    "url = \"https://drive.google.com/drive/folders/15pkQiGOubOScSvfh5nGML0MekquvfZoH?usp=sharing\"\n",
    "\n",
    "file_id = url.split('/')[-2]\n",
    "\n",
    "prefix = \"https://drive.google.com/uc?/export=download&id=\""
   ]
  }
 ],
 "metadata": {
  "kernelspec": {
   "display_name": "venv",
   "language": "python",
   "name": "python3"
  },
  "language_info": {
   "codemirror_mode": {
    "name": "ipython",
    "version": 3
   },
   "file_extension": ".py",
   "mimetype": "text/x-python",
   "name": "python",
   "nbconvert_exporter": "python",
   "pygments_lexer": "ipython3",
   "version": "3.11.4"
  }
 },
 "nbformat": 4,
 "nbformat_minor": 2
}
